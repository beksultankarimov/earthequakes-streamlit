{
  "nbformat": 4,
  "nbformat_minor": 0,
  "metadata": {
    "colab": {
      "name": "Earthquakes Data Cleaning .ipynb",
      "provenance": [],
      "collapsed_sections": [
        "3ifyfe-tpkX9",
        "yOm5KbzKpK25",
        "BYfA3nPEZDPG",
        "WW0UhmpYL1Kl",
        "v9QFqtxLW6_a",
        "sQUN7X4Cw5xU",
        "ZS8C0GNtL-bJ",
        "VB1P-iAbi2Qr"
      ]
    },
    "kernelspec": {
      "display_name": "Python 3",
      "name": "python3"
    }
  },
  "cells": [
    {
      "cell_type": "markdown",
      "metadata": {
        "id": "3ifyfe-tpkX9"
      },
      "source": [
        "### Libraries"
      ]
    },
    {
      "cell_type": "code",
      "metadata": {
        "id": "gQY6MPJKO9Us"
      },
      "source": [
        "import pandas as pd\r\n",
        "import datetime as dt\r\n",
        "from google.colab import files\r\n",
        "import io"
      ],
      "execution_count": 2,
      "outputs": []
    },
    {
      "cell_type": "markdown",
      "metadata": {
        "id": "yOm5KbzKpK25"
      },
      "source": [
        "### Upload the data"
      ]
    },
    {
      "cell_type": "code",
      "metadata": {
        "colab": {
          "resources": {
            "http://localhost:8080/nbextensions/google.colab/files.js": {
              "data": "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",
              "ok": true,
              "headers": [
                [
                  "content-type",
                  "application/javascript"
                ]
              ],
              "status": 200,
              "status_text": ""
            }
          },
          "base_uri": "https://localhost:8080/",
          "height": 72
        },
        "id": "99gG9JnygeKw",
        "outputId": "e16406cc-3a78-4e2b-e7f1-40b1b9e7772b"
      },
      "source": [
        "#uploading data_raw.csv\r\n",
        "uploaded = files.upload()"
      ],
      "execution_count": 3,
      "outputs": [
        {
          "output_type": "display_data",
          "data": {
            "text/html": [
              "\n",
              "     <input type=\"file\" id=\"files-44a888a4-f05b-488c-ad4f-e69a289619bd\" name=\"files[]\" multiple disabled\n",
              "        style=\"border:none\" />\n",
              "     <output id=\"result-44a888a4-f05b-488c-ad4f-e69a289619bd\">\n",
              "      Upload widget is only available when the cell has been executed in the\n",
              "      current browser session. Please rerun this cell to enable.\n",
              "      </output>\n",
              "      <script src=\"/nbextensions/google.colab/files.js\"></script> "
            ],
            "text/plain": [
              "<IPython.core.display.HTML object>"
            ]
          },
          "metadata": {
            "tags": []
          }
        },
        {
          "output_type": "stream",
          "text": [
            "Saving data_raw.csv to data_raw.csv\n"
          ],
          "name": "stdout"
        }
      ]
    },
    {
      "cell_type": "markdown",
      "metadata": {
        "id": "JKEFMXQUgvYA"
      },
      "source": [
        "# Cleaning"
      ]
    },
    {
      "cell_type": "markdown",
      "metadata": {
        "id": "BYfA3nPEZDPG"
      },
      "source": [
        "## Primary Cleaning"
      ]
    },
    {
      "cell_type": "code",
      "metadata": {
        "id": "_p1pz8AKlSzU",
        "colab": {
          "base_uri": "https://localhost:8080/",
          "height": 0
        },
        "outputId": "cad5fe64-c6fb-46bb-9abb-4fb7898533a2"
      },
      "source": [
        "#reading the file\r\n",
        "raw_df = pd.read_csv(io.BytesIO(uploaded['data_raw.csv']), delimiter=';')\r\n",
        "\r\n",
        "#getting a subset with needed columns\r\n",
        "raw_df = raw_df[['Date', 'Time UTC', 'Latitude', 'Longitude', 'Depth',\r\n",
        "                 'Magnitude Type', 'Magnitude', 'Region Name']]\r\n",
        "#convierting all column names to lowercase. Streamlit that we will use creting and app needs 'latitude'/'longitude' to automatically plot the data on the map\r\n",
        "raw_df.columns = raw_df.columns.str.lower()\r\n",
        "\r\n",
        "#Replaceing spaces with \"_\" in column names, it will make accessing the columns easier - by calling df.column1 instead of df['column1']\r\n",
        "raw_df.columns = raw_df.columns.str.replace(' ', '_')\r\n",
        "\r\n",
        "#sorting by Date and Time\r\n",
        "raw_df = raw_df.sort_values(by=['date','time_utc']).reset_index(drop=True)\r\n",
        "raw_df.head()"
      ],
      "execution_count": 179,
      "outputs": [
        {
          "output_type": "execute_result",
          "data": {
            "text/html": [
              "<div>\n",
              "<style scoped>\n",
              "    .dataframe tbody tr th:only-of-type {\n",
              "        vertical-align: middle;\n",
              "    }\n",
              "\n",
              "    .dataframe tbody tr th {\n",
              "        vertical-align: top;\n",
              "    }\n",
              "\n",
              "    .dataframe thead th {\n",
              "        text-align: right;\n",
              "    }\n",
              "</style>\n",
              "<table border=\"1\" class=\"dataframe\">\n",
              "  <thead>\n",
              "    <tr style=\"text-align: right;\">\n",
              "      <th></th>\n",
              "      <th>date</th>\n",
              "      <th>time_utc</th>\n",
              "      <th>latitude</th>\n",
              "      <th>longitude</th>\n",
              "      <th>depth</th>\n",
              "      <th>magnitude_type</th>\n",
              "      <th>magnitude</th>\n",
              "      <th>region_name</th>\n",
              "    </tr>\n",
              "  </thead>\n",
              "  <tbody>\n",
              "    <tr>\n",
              "      <th>0</th>\n",
              "      <td>2020-01-01</td>\n",
              "      <td>00:01:56</td>\n",
              "      <td>19.22</td>\n",
              "      <td>-67.13</td>\n",
              "      <td>12</td>\n",
              "      <td>Md</td>\n",
              "      <td>2.8</td>\n",
              "      <td>PUERTO RICO REGION</td>\n",
              "    </tr>\n",
              "    <tr>\n",
              "      <th>1</th>\n",
              "      <td>2020-01-01</td>\n",
              "      <td>00:02:21</td>\n",
              "      <td>-2.74</td>\n",
              "      <td>127.90</td>\n",
              "      <td>20</td>\n",
              "      <td>M</td>\n",
              "      <td>3.0</td>\n",
              "      <td>CERAM SEA, INDONESIA</td>\n",
              "    </tr>\n",
              "    <tr>\n",
              "      <th>2</th>\n",
              "      <td>2020-01-01</td>\n",
              "      <td>00:03:38</td>\n",
              "      <td>19.08</td>\n",
              "      <td>-67.09</td>\n",
              "      <td>6</td>\n",
              "      <td>Md</td>\n",
              "      <td>2.5</td>\n",
              "      <td>PUERTO RICO REGION</td>\n",
              "    </tr>\n",
              "    <tr>\n",
              "      <th>3</th>\n",
              "      <td>2020-01-01</td>\n",
              "      <td>00:10:43</td>\n",
              "      <td>19.19</td>\n",
              "      <td>-67.84</td>\n",
              "      <td>28</td>\n",
              "      <td>Md</td>\n",
              "      <td>3.1</td>\n",
              "      <td>DOMINICAN REPUBLIC REGION</td>\n",
              "    </tr>\n",
              "    <tr>\n",
              "      <th>4</th>\n",
              "      <td>2020-01-01</td>\n",
              "      <td>00:11:23</td>\n",
              "      <td>-25.64</td>\n",
              "      <td>-70.52</td>\n",
              "      <td>53</td>\n",
              "      <td>ML</td>\n",
              "      <td>3.5</td>\n",
              "      <td>ANTOFAGASTA, CHILE</td>\n",
              "    </tr>\n",
              "  </tbody>\n",
              "</table>\n",
              "</div>"
            ],
            "text/plain": [
              "         date  time_utc  ...  magnitude                region_name\n",
              "0  2020-01-01  00:01:56  ...        2.8         PUERTO RICO REGION\n",
              "1  2020-01-01  00:02:21  ...        3.0       CERAM SEA, INDONESIA\n",
              "2  2020-01-01  00:03:38  ...        2.5         PUERTO RICO REGION\n",
              "3  2020-01-01  00:10:43  ...        3.1  DOMINICAN REPUBLIC REGION\n",
              "4  2020-01-01  00:11:23  ...        3.5         ANTOFAGASTA, CHILE\n",
              "\n",
              "[5 rows x 8 columns]"
            ]
          },
          "metadata": {
            "tags": []
          },
          "execution_count": 179
        }
      ]
    },
    {
      "cell_type": "markdown",
      "metadata": {
        "id": "WW0UhmpYL1Kl"
      },
      "source": [
        "## Date and Time_UTC"
      ]
    },
    {
      "cell_type": "code",
      "metadata": {
        "id": "u2sVCahEMin9"
      },
      "source": [
        "#creating date_time_utc column that has bot date and time_utc \r\n",
        "raw_df.insert(0,'date_time_utc',pd.to_datetime(raw_df.date.str.cat(raw_df.time_utc,sep=\" \")))\r\n",
        "#declaring date_time_utc as index so it will be easier to plot timeseries in case we need\r\n",
        "#dropping useless columns\r\n",
        "raw_df.drop(['date', 'time_utc'], axis=1, inplace=True)"
      ],
      "execution_count": 180,
      "outputs": []
    },
    {
      "cell_type": "markdown",
      "metadata": {
        "id": "v9QFqtxLW6_a"
      },
      "source": [
        "## Magnitude type"
      ]
    },
    {
      "cell_type": "code",
      "metadata": {
        "colab": {
          "base_uri": "https://localhost:8080/"
        },
        "id": "FrPTHGdrovTb",
        "outputId": "9a8f5a2f-d313-46c8-cb3e-ac4276801b8a"
      },
      "source": [
        "#checking unique values \r\n",
        "raw_df.magnitude_type.unique()"
      ],
      "execution_count": 181,
      "outputs": [
        {
          "output_type": "execute_result",
          "data": {
            "text/plain": [
              "array(['Md', ' M', 'ML', 'MD', 'Ml', 'mb', 'Mw', 'ml', 'M ', 'Mc', 'Mh',\n",
              "       'Mm', 'Mn'], dtype=object)"
            ]
          },
          "metadata": {
            "tags": []
          },
          "execution_count": 181
        }
      ]
    },
    {
      "cell_type": "code",
      "metadata": {
        "colab": {
          "base_uri": "https://localhost:8080/"
        },
        "id": "qjMmzp5AZekq",
        "outputId": "b60e9727-4978-458b-8837-284ed1b1b5c2"
      },
      "source": [
        "#Converting all Magnitude types to upper case\r\n",
        "raw_df.magnitude_type = [x.upper() for x in raw_df.magnitude_type]\r\n",
        "#removing white space in magnitude types in order to be able to group them later on if needed\r\n",
        "raw_df.magnitude_type = raw_df.magnitude_type.str.replace(' ', '')\r\n",
        "raw_df.magnitude_type.unique()"
      ],
      "execution_count": 182,
      "outputs": [
        {
          "output_type": "execute_result",
          "data": {
            "text/plain": [
              "array(['MD', 'M', 'ML', 'MB', 'MW', 'MC', 'MH', 'MM', 'MN'], dtype=object)"
            ]
          },
          "metadata": {
            "tags": []
          },
          "execution_count": 182
        }
      ]
    },
    {
      "cell_type": "code",
      "metadata": {
        "id": "GkxUryGKozM0"
      },
      "source": [
        "#Saving the Magnitudes descirption for future reference\r\n",
        "url_description = \"https://www.usgs.gov/natural-hazards/earthquake-hazards/science/magnitude-types?qt-science_center_objects=0#qt-science_center_objects\"\r\n",
        "description_df_raw = pd.read_html(url_description)\r\n",
        "description_df=description_df_raw[0]"
      ],
      "execution_count": 183,
      "outputs": []
    },
    {
      "cell_type": "code",
      "metadata": {
        "id": "NUCn-YZjfVBU"
      },
      "source": [
        "description_df.to_csv('magnitudes_description.csv')"
      ],
      "execution_count": 184,
      "outputs": []
    },
    {
      "cell_type": "markdown",
      "metadata": {
        "id": "sQUN7X4Cw5xU"
      },
      "source": [
        "## Region name"
      ]
    },
    {
      "cell_type": "markdown",
      "metadata": {
        "id": "ZS8C0GNtL-bJ"
      },
      "source": [
        "### Lists for preprocessing"
      ]
    },
    {
      "cell_type": "markdown",
      "metadata": {
        "id": "l7q8kjuMgVov"
      },
      "source": [
        "Lists of coutries and US states that will help to map the locations "
      ]
    },
    {
      "cell_type": "code",
      "metadata": {
        "id": "jG8F_zXpMChW"
      },
      "source": [
        "Country_list = ['KASHMIR',\r\n",
        "  'UNITED STATES',\r\n",
        "  'U.S',\r\n",
        " 'AFGHANISTAN',\r\n",
        " 'ALBANIA',\r\n",
        " 'ALGERIA',\r\n",
        " 'AMERICAN SAMOA',\r\n",
        " 'ANDORRA',\r\n",
        " 'ANGOLA',\r\n",
        " 'ANGUILLA',\r\n",
        " 'ANTARCTICA',\r\n",
        " 'ANTIGUA AND BARBUDA',\r\n",
        " 'ARGENTINA',\r\n",
        " 'ARMENIA',\r\n",
        " 'ARUBA',\r\n",
        " 'AUSTRALIA',\r\n",
        " 'AUSTRIA',\r\n",
        " 'AZERBAIJAN',\r\n",
        " 'BAHAMAS',\r\n",
        " 'BAHRAIN',\r\n",
        " 'BANGLADESH',\r\n",
        " 'BARBADOS',\r\n",
        " 'BELARUS',\r\n",
        " 'BELGIUM',\r\n",
        " 'BELIZE',\r\n",
        " 'BENIN',\r\n",
        " 'BERMUDA',\r\n",
        " 'BHUTAN',\r\n",
        " 'BOLIVIA',\r\n",
        " 'BOSNIA AND HERZEGOWINA',\r\n",
        " 'BOTSWANA',\r\n",
        " 'BOUVET ISLAND',\r\n",
        " 'BRAZIL',\r\n",
        " 'BRUNEI DARUSSALAM',\r\n",
        " 'BULGARIA',\r\n",
        " 'BURKINA FASO',\r\n",
        " 'BURUNDI',\r\n",
        " 'CAMBODIA',\r\n",
        " 'CAMEROON',\r\n",
        " 'CANADA',\r\n",
        " 'CAPE VERDE',\r\n",
        " 'CAYMAN ISLANDS',\r\n",
        " 'CENTRAL AFRICAN REP',\r\n",
        " 'CHAD',\r\n",
        " 'CHILE',\r\n",
        " 'CHINA',\r\n",
        " 'CHRISTMAS ISLAND',\r\n",
        " 'COCOS ISLANDS',\r\n",
        " 'COLOMBIA',\r\n",
        " 'COMOROS',\r\n",
        " 'CONGO',\r\n",
        " 'COOK ISLANDS',\r\n",
        " 'COSTA RICA',\r\n",
        " 'COTE D`IVOIRE',\r\n",
        " 'CROATIA',\r\n",
        " 'CUBA',\r\n",
        " 'CYPRUS',\r\n",
        " 'CZECH REPUBLIC',\r\n",
        " 'DENMARK',\r\n",
        " 'DJIBOUTI',\r\n",
        " 'DOMINICA',\r\n",
        " 'DOMINICAN REPUBLIC',\r\n",
        " 'EAST TIMOR',\r\n",
        " 'ECUADOR',\r\n",
        " 'EGYPT',\r\n",
        " 'EL SALVADOR',\r\n",
        " 'EQUATORIAL GUINEA',\r\n",
        " 'ERITREA',\r\n",
        " 'ESTONIA',\r\n",
        " 'ETHIOPIA',\r\n",
        " 'FALKLAND ISLANDS (MALVINAS)',\r\n",
        " 'FAROE ISLANDS',\r\n",
        " 'FIJI',\r\n",
        " 'FINLAND',\r\n",
        " 'FRANCE',\r\n",
        " 'FRENCH GUIANA',\r\n",
        " 'FRENCH POLYNESIA',\r\n",
        " 'FRENCH S. TERRITORIES',\r\n",
        " 'GABON',\r\n",
        " 'GAMBIA',\r\n",
        " 'GEORGIA',\r\n",
        " 'GERMANY',\r\n",
        " 'GHANA',\r\n",
        " 'GIBRALTAR',\r\n",
        " 'GREECE',\r\n",
        " 'GREENLAND',\r\n",
        " 'GRENADA',\r\n",
        " 'GUADELOUPE',\r\n",
        " 'GUAM',\r\n",
        " 'GUATEMALA',\r\n",
        " 'GUINEA',\r\n",
        " 'GUINEA-BISSAU',\r\n",
        " 'GUYANA',\r\n",
        " 'HAITI',\r\n",
        " 'HONDURAS',\r\n",
        " 'HONG KONG',\r\n",
        " 'HUNGARY',\r\n",
        " 'ICELAND',\r\n",
        " 'INDIA',\r\n",
        " 'INDONESIA',\r\n",
        " 'IRAN',\r\n",
        " 'IRAQ',\r\n",
        " 'IRELAND',\r\n",
        " 'ISRAEL',\r\n",
        " 'ITALY',\r\n",
        " 'JAMAICA',\r\n",
        " 'JAPAN',\r\n",
        " 'JORDAN',\r\n",
        " 'KAZAKHSTAN',\r\n",
        " 'KENYA',\r\n",
        " 'KIRIBATI',\r\n",
        " 'KOREA (NORTH)',\r\n",
        " 'KOREA (SOUTH)',\r\n",
        " 'KUWAIT',\r\n",
        " 'KYRGYZSTAN',\r\n",
        " 'LAOS',\r\n",
        " 'LATVIA',\r\n",
        " 'LEBANON',\r\n",
        " 'LESOTHO',\r\n",
        " 'LIBERIA',\r\n",
        " 'LIBYA',\r\n",
        " 'LIECHTENSTEIN',\r\n",
        " 'LITHUANIA',\r\n",
        " 'LUXEMBOURG',\r\n",
        " 'MACAU',\r\n",
        " 'MACEDONIA',\r\n",
        " 'MADAGASCAR',\r\n",
        " 'MALAWI',\r\n",
        " 'MALAYSIA',\r\n",
        " 'MALDIVES',\r\n",
        " 'MALI',\r\n",
        " 'MALTA',\r\n",
        " 'MARSHALL ISLANDS',\r\n",
        " 'MARTINIQUE',\r\n",
        " 'MAURITANIA',\r\n",
        " 'MAURITIUS',\r\n",
        " 'MAYOTTE',\r\n",
        " 'MEXICO',\r\n",
        " 'MICRONESIA',\r\n",
        " 'MOLDOVA',\r\n",
        " 'MONACO',\r\n",
        " 'MONGOLIA',\r\n",
        " 'MONTSERRAT',\r\n",
        " 'MOROCCO',\r\n",
        " 'MOZAMBIQUE',\r\n",
        " 'MYANMAR',\r\n",
        " 'NAMIBIA',\r\n",
        " 'NAURU',\r\n",
        " 'NEPAL',\r\n",
        " 'NETHERLANDS',\r\n",
        " 'NETHERLANDS ANTILLES',\r\n",
        " 'NEW CALEDONIA',\r\n",
        " 'NEW ZEALAND',\r\n",
        " 'NICARAGUA',\r\n",
        " 'NIGER',\r\n",
        " 'NIGERIA',\r\n",
        " 'NIUE',\r\n",
        " 'NORFOLK ISLAND',\r\n",
        " 'NORTHERN MARIANA ISLANDS',\r\n",
        " 'NORWAY',\r\n",
        " 'OMAN',\r\n",
        " 'PAKISTAN',\r\n",
        " 'PALAU',\r\n",
        " 'PANAMA',\r\n",
        " 'PAPUA NEW GUINEA',\r\n",
        " 'PARAGUAY',\r\n",
        " 'PERU',\r\n",
        " 'PHILIPPINES',\r\n",
        " 'PITCAIRN',\r\n",
        " 'POLAND',\r\n",
        " 'PORTUGAL',\r\n",
        " 'PUERTO RICO',\r\n",
        " 'QATAR',\r\n",
        " 'REUNION',\r\n",
        " 'ROMANIA',\r\n",
        " 'RUSSIAN FEDERATION',\r\n",
        " 'RUSSIA',\r\n",
        " 'RWANDA',\r\n",
        " 'SAINT KITTS AND NEVIS',\r\n",
        " 'SAINT LUCIA',\r\n",
        " 'ST VINCENT/GRENADINES',\r\n",
        " 'SAMOA',\r\n",
        " 'SAN MARINO',\r\n",
        " 'SAO TOME',\r\n",
        " 'SAUDI ARABIA',\r\n",
        " 'SENEGAL',\r\n",
        " 'SEYCHELLES',\r\n",
        " 'SIERRA LEONE',\r\n",
        " 'SINGAPORE',\r\n",
        " 'SLOVAKIA',\r\n",
        " 'SLOVENIA',\r\n",
        " 'SOLOMON ISLANDS',\r\n",
        " 'SOMALIA',\r\n",
        " 'SOUTH AFRICA',\r\n",
        " 'SPAIN',\r\n",
        " 'SRI LANKA',\r\n",
        " 'ST. HELENA',\r\n",
        " 'ST.PIERRE',\r\n",
        " 'SUDAN',\r\n",
        " 'SURINAME',\r\n",
        " 'SWAZILAND',\r\n",
        " 'SWEDEN',\r\n",
        " 'SWITZERLAND',\r\n",
        " 'SYRIA',\r\n",
        " 'TAIWAN',\r\n",
        " 'TAJIKISTAN',\r\n",
        " 'TANZANIA',\r\n",
        " 'THAILAND',\r\n",
        " 'TOGO',\r\n",
        " 'TOKELAU',\r\n",
        " 'TONGA',\r\n",
        " 'TRINIDAD AND TOBAGO',\r\n",
        " 'TUNISIA',\r\n",
        " 'TURKEY',\r\n",
        " 'TURKMENISTAN',\r\n",
        " 'TUVALU',\r\n",
        " 'UGANDA',\r\n",
        " 'UKRAINE',\r\n",
        " 'UNITED ARAB EMIRATES',\r\n",
        " 'UNITED KINGDOM',\r\n",
        " 'U.K.',\r\n",
        " 'URUGUAY',\r\n",
        " 'UZBEKISTAN',\r\n",
        " 'VANUATU',\r\n",
        " 'VATICAN CITY STATE',\r\n",
        " 'VENEZUELA',\r\n",
        " 'VIET NAM',\r\n",
        " 'VIRGIN ISLANDS (BRITISH)',\r\n",
        " 'VIRGIN ISLANDS (U.S.)',\r\n",
        " 'WESTERN SAHARA',\r\n",
        " 'YEMEN',\r\n",
        " 'YUGOSLAVIA',\r\n",
        " 'ZAIRE',\r\n",
        " 'ZAMBIA',\r\n",
        " 'ZIMBABWE']"
      ],
      "execution_count": 185,
      "outputs": []
    },
    {
      "cell_type": "code",
      "metadata": {
        "id": "UR0Eaut3MVfN"
      },
      "source": [
        "US_states_list = ['ALASKA',\r\n",
        "  'ISLAND OF HAWAII, HAWAII',\r\n",
        " 'ALABAMA',\r\n",
        " 'ARKANSAS',\r\n",
        " 'AMERICAN SAMOA',\r\n",
        " 'ARIZONA',\r\n",
        " 'CALIFORNIA',\r\n",
        " 'COLORADO',\r\n",
        " 'CONNECTICUT',\r\n",
        " 'DISTRICT OF COLUMBIA',\r\n",
        " 'DELAWARE',\r\n",
        " 'DAKOTA',\r\n",
        " 'FLORIDA',\r\n",
        " 'GUAM',\r\n",
        " 'HAWAII',\r\n",
        " 'IOWA',\r\n",
        " 'IDAHO',\r\n",
        " 'ILLINOIS',\r\n",
        " 'INDIANA',\r\n",
        " 'KANSAS',\r\n",
        " 'KENTUCKY',\r\n",
        " 'LOUISIANA',\r\n",
        " 'MASSACHUSETTS',\r\n",
        " 'MARYLAND',\r\n",
        " 'MAINE',\r\n",
        " 'MICHIGAN',\r\n",
        " 'MINNESOTA',\r\n",
        " 'MISSOURI',\r\n",
        " 'NORTHERN MARIANA ISLANDS',\r\n",
        " 'MISSISSIPPI',\r\n",
        " 'MONTANA',\r\n",
        " 'NATIONAL',\r\n",
        " 'NORTH CAROLINA',\r\n",
        " 'NORTH DAKOTA',\r\n",
        " 'NEBRASKA',\r\n",
        " 'NEW HAMPSHIRE',\r\n",
        " 'NEW JERSEY',\r\n",
        " 'NEW MEXICO',\r\n",
        " 'NEVADA',\r\n",
        " 'NEW YORK',\r\n",
        " 'OHIO',\r\n",
        " 'OKLAHOMA',\r\n",
        " 'OREGON',\r\n",
        " 'PENNSYLVANIA',\r\n",
        " 'PUERTO RICO',\r\n",
        " 'RHODE ISLAND',\r\n",
        " 'SOUTH CAROLINA',\r\n",
        " 'SOUTH DAKOTA',\r\n",
        " 'TENNESSEE',\r\n",
        " 'TEXAS',\r\n",
        " 'UTAH',\r\n",
        " 'VIRGINIA',\r\n",
        " 'VIRGIN ISLANDS',\r\n",
        " 'VERMONT',\r\n",
        " 'WASHINGTON',\r\n",
        " 'WISCONSIN',\r\n",
        " 'WEST VIRGINIA',\r\n",
        " 'WYOMING']"
      ],
      "execution_count": 186,
      "outputs": []
    },
    {
      "cell_type": "markdown",
      "metadata": {
        "id": "VB1P-iAbi2Qr"
      },
      "source": [
        "### Wrangling"
      ]
    },
    {
      "cell_type": "code",
      "metadata": {
        "colab": {
          "base_uri": "https://localhost:8080/"
        },
        "id": "e_Y-CMAejARP",
        "outputId": "e2c3ceee-cbef-4e62-f760-a9caefe9b4b2"
      },
      "source": [
        "#raw_df.region_name.sort_values().unique() #check for the unique values\r\n",
        "len(raw_df.region_name.unique())"
      ],
      "execution_count": 187,
      "outputs": [
        {
          "output_type": "execute_result",
          "data": {
            "text/plain": [
              "867"
            ]
          },
          "metadata": {
            "tags": []
          },
          "execution_count": 187
        }
      ]
    },
    {
      "cell_type": "code",
      "metadata": {
        "id": "Lyr5m9W_3VOr"
      },
      "source": [
        "#replacing region_names that contains certain str(e.g 'CALIF ') in to 'CALIFORNIA' \r\n",
        "#we doing it now, since these two regions are U.S. states and not a country\r\n",
        "raw_df.region_name = raw_df.region_name.str.replace(r'(^.*CALIF.*$)', 'CALIFORNIA')\r\n",
        "raw_df.region_name = raw_df.region_name.str.replace(r'(^.*TENNESSEE.*$)', 'TENNESSEE')\r\n",
        "\r\n",
        "#Creating a list that will consists of all reagions except SEAs and BORDERs, since they can belong to more than 1 country\r\n",
        "region_final_Countries_replaced = []\r\n",
        "for i in raw_df.region_name:\r\n",
        "  if \"BORDER\" or 'SEA' not in i:\r\n",
        "    for j in Country_list:\r\n",
        "      if j in i:\r\n",
        "        i=j\r\n",
        "    region_final_Countries_replaced.append(i)\r\n",
        "  else:\r\n",
        "    region_final_Countries_replaced.append(i)\r\n",
        "\r\n",
        "#Rename State regions to the US\r\n",
        "for i in US_states_list:\r\n",
        "  for j, item in enumerate(region_final_Countries_replaced):\r\n",
        "    if i in item:\r\n",
        "      region_final_Countries_replaced[j] = 'U.S.'\r\n",
        "\r\n",
        "raw_df['Countries'] = region_final_Countries_replaced\r\n",
        "\r\n",
        "#Here we manually handle exeptions and typos\r\n",
        "raw_df.Countries = raw_df.Countries.str.replace(r'(^.*KAMCHATKA.*$)', 'RUSSIA')\r\n",
        "raw_df.Countries = raw_df.Countries.str.replace(r'(^.*FRANZ JOSEF LAND.*$)', 'RUSSIA')\r\n",
        "raw_df.Countries = raw_df.Countries.str.replace(r'(^.*SEVERNAYA ZEMLYA.*$)', 'RUSSIA')\r\n",
        "raw_df.Countries = raw_df.Countries.str.replace(r'(^.*KURIL.*$)', 'RUSSIA')\r\n",
        "raw_df.Countries = raw_df.Countries.str.replace(r'(^.*P.N.G..*$)', 'PAPUA NEW GUINIA')\r\n",
        "raw_df.Countries = raw_df.Countries.str.replace(r'(^.*MARIANA.*$)', 'MARIANA ISLANDS')\r\n",
        "raw_df.Countries = raw_df.Countries.str.replace(r'(^.*ALEUTIAN.*$)', 'ALEUTIAN ISLANDS')\r\n",
        "raw_df.Countries = raw_df.Countries.str.replace(r'(^.*N.Z..*$)', 'NEW ZEALAND')\r\n",
        "raw_df.Countries = raw_df.Countries.str.replace(r'(^.*KERMADEC.*$)', 'NEW ZEALAND')\r\n",
        "raw_df.Countries = raw_df.Countries.str.replace(r'(^.*CAN..*$)', 'CANADA')\r\n",
        "raw_df.Countries = raw_df.Countries.str.replace(r'(^.*QUEEN CHARLOTTE.*$)', 'CANADA')\r\n",
        "raw_df.Countries = raw_df.Countries.str.replace(r'(^.*MEX..*$)', 'MEXICO')\r\n",
        "raw_df.Countries = raw_df.Countries.str.replace(r'(^.*REVILLA GIGEDO.*$)', 'MEXICO')\r\n",
        "raw_df.Countries = raw_df.Countries.str.replace(r'(^.*GALAPAGOS.*$)', 'GALAPAGOS ISLANDS')\r\n",
        "raw_df.Countries = raw_df.Countries.str.replace(r'(^.*ISLAND REGION.*$)', 'ISLAND')\r\n",
        "raw_df.Countries = raw_df.Countries.str.replace(r'(^.*TANGANYIKA.*$)', 'CONGO')\r\n",
        "raw_df.Countries = raw_df.Countries.str.replace(r'(^.*MALDIVE.*$)', 'MALDIVE ISLANDS')\r\n",
        "raw_df.Countries = raw_df.Countries.str.replace(r'(^.*BARBUDA.*$)', 'ANTIGUA AND BARBUDA')\r\n",
        "raw_df.Countries = raw_df.Countries.str.replace(r'(^.*ASCENSION.*$)', 'ASCENSION ISLAND')\r\n",
        "raw_df.Countries = raw_df.Countries.str.replace(r'(^.*HONSHU.*$)', 'JAPAN')\r\n",
        "raw_df.Countries = raw_df.Countries.str.replace(r'(^.*MACQUARIE.*$)', 'AUSTRALIA')\r\n",
        "raw_df.Countries = raw_df.Countries.str.replace(r'(^.*SVALBARD.*$)', 'NORWAY')\r\n",
        "raw_df.Countries = raw_df.Countries.str.replace(r'(^.*SUMATRA.*$)', 'INDONASIA')\r\n",
        "raw_df.Countries = raw_df.Countries.str.replace(r'(^.*PHILIPPINE.*$)', 'PHILIPPINES')\r\n",
        "raw_df.Countries = raw_df.Countries.str.replace(r'(^.*PRINCE EDWARD ISLANDS.*$)', 'SOUTH AFRICA')\r\n",
        "raw_df.Countries = raw_df.Countries.str.replace(r'(^.*TIMOR.*$)', 'TIMOR')\r\n",
        "raw_df.Countries = raw_df.Countries.str.replace(r'(^.*TRINIDAD-TOBAGO.*$)', 'TRINIDAD-TOBAGO')\r\n",
        "raw_df.Countries = raw_df.Countries.str.replace(r'(^.*UNITED KINGDOM.*$)', 'U.K.')\r\n",
        "raw_df.loc[raw_df.region_name == 'SOUTH GEORGIA ISLAND REGION', 'Countries'] = 'U.K.'\r\n",
        "raw_df.loc[raw_df.region_name == 'GEORGIA, USA', 'Countries'] = 'U.S.'"
      ],
      "execution_count": 188,
      "outputs": []
    },
    {
      "cell_type": "code",
      "metadata": {
        "id": "EHLefWk2u25m",
        "colab": {
          "base_uri": "https://localhost:8080/"
        },
        "outputId": "aa69b04d-094c-4724-e240-10521474fee0"
      },
      "source": [
        "len(raw_df.Countries.sort_values().unique())"
      ],
      "execution_count": 189,
      "outputs": [
        {
          "output_type": "execute_result",
          "data": {
            "text/plain": [
              "233"
            ]
          },
          "metadata": {
            "tags": []
          },
          "execution_count": 189
        }
      ]
    },
    {
      "cell_type": "markdown",
      "metadata": {
        "id": "F3UfimEmleBv"
      },
      "source": [
        "## Saving clean data"
      ]
    },
    {
      "cell_type": "code",
      "metadata": {
        "id": "1-Gj2WdrGuRV"
      },
      "source": [
        "raw_df.to_csv('data_clean.csv')"
      ],
      "execution_count": 190,
      "outputs": []
    }
  ]
}